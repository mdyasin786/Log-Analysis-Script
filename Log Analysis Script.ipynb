{
 "cells": [
  {
   "cell_type": "code",
   "execution_count": 1,
   "id": "c92e7f44",
   "metadata": {},
   "outputs": [],
   "source": [
    "# Importing the necessary libraries for the task"
   ]
  },
  {
   "cell_type": "code",
   "execution_count": 2,
   "id": "d1a380df",
   "metadata": {},
   "outputs": [],
   "source": [
    "import pandas as pd\n",
    "from collections import Counter\n",
    "import re\n"
   ]
  },
  {
   "cell_type": "code",
   "execution_count": 3,
   "id": "b6647b22",
   "metadata": {},
   "outputs": [],
   "source": [
    "# A function to parse logs and extract key details like IP, endpoint, and status code"
   ]
  },
  {
   "cell_type": "code",
   "execution_count": 4,
   "id": "e78d84a0",
   "metadata": {},
   "outputs": [],
   "source": [
    "def parse_logs(file_path):\n",
    "    logs = []\n",
    "    try:\n",
    "        with open(file_path, 'r') as file:\n",
    "            for line in file:\n",
    "                # Match the log format\n",
    "                match = re.match(\n",
    "                    r'(?P<ip>[\\d.]+) - - \\[.*\\] \"(?:GET|POST) (?P<endpoint>[^ ]*) HTTP/1.1\" (?P<status>\\d+) .*',\n",
    "                    line\n",
    "                )\n",
    "                if match:\n",
    "                    logs.append(match.groupdict())  # Save matched groups\n",
    "    except Exception as e:\n",
    "        print(f\"Error while reading the file: {e}\")\n",
    "    return logs\n",
    "\n"
   ]
  },
  {
   "cell_type": "code",
   "execution_count": 5,
   "id": "89cd854a",
   "metadata": {},
   "outputs": [],
   "source": [
    "# A function to count and rank requests by IP address"
   ]
  },
  {
   "cell_type": "code",
   "execution_count": 6,
   "id": "b06176d3",
   "metadata": {},
   "outputs": [],
   "source": [
    "def analyze_requests_per_ip(logs):\n",
    "    try:\n",
    "        ip_counts = Counter(log['ip'] for log in logs)\n",
    "        # Convert to DataFrame and sort\n",
    "        return pd.DataFrame(\n",
    "            ip_counts.items(), columns=['IP Address', 'Request Count']\n",
    "        ).sort_values(by='Request Count', ascending=False)\n",
    "    except Exception as e:\n",
    "        print(f\"Error analyzing requests per IP: {e}\")\n",
    "        return pd.DataFrame()\n"
   ]
  },
  {
   "cell_type": "code",
   "execution_count": 7,
   "id": "a3561504",
   "metadata": {},
   "outputs": [],
   "source": [
    "# Find the most frequently accessed endpoint"
   ]
  },
  {
   "cell_type": "code",
   "execution_count": 8,
   "id": "b0eb490a",
   "metadata": {},
   "outputs": [],
   "source": [
    "def most_accessed_endpoint(logs):\n",
    "    endpoint_counts = Counter(log['endpoint'] for log in logs)\n",
    "    if endpoint_counts:\n",
    "        return endpoint_counts.most_common(1)[0]  # Get the top endpoint\n",
    "    else:\n",
    "        return \"N/A\", 0  # Return default values if no data is available\n"
   ]
  },
  {
   "cell_type": "code",
   "execution_count": 9,
   "id": "706c49f6",
   "metadata": {},
   "outputs": [],
   "source": [
    "# Detect Suspicious Activity (Failed Login Attempts)"
   ]
  },
  {
   "cell_type": "code",
   "execution_count": 10,
   "id": "24283f9b",
   "metadata": {},
   "outputs": [],
   "source": [
    "def detect_suspicious_activity(logs, threshold=1):\n",
    "    try:\n",
    "        failed_logins = Counter(log['ip'] for log in logs if log['status'] == '401')\n",
    "        # Filter for IPs that exceed the threshold\n",
    "        suspicious_ips = {ip: count for ip, count in failed_logins.items() if count > threshold}\n",
    "        return pd.DataFrame(\n",
    "            suspicious_ips.items(), columns=['IP Address', 'Failed Login Count']\n",
    "        )\n",
    "    except Exception as e:\n",
    "        print(f\"Error detecting suspicious activity: {e}\")\n",
    "        return pd.DataFrame()\n"
   ]
  },
  {
   "cell_type": "code",
   "execution_count": 11,
   "id": "a3147f48",
   "metadata": {},
   "outputs": [],
   "source": [
    "# main Function"
   ]
  },
  {
   "cell_type": "code",
   "execution_count": 12,
   "id": "1ea2ade3",
   "metadata": {},
   "outputs": [
    {
     "name": "stdout",
     "output_type": "stream",
     "text": [
      "Reading and parsing the logs...\n",
      "Analyzing the number of requests per IP...\n",
      "\n",
      "Requests Per IP Address:\n",
      "      IP Address  Request Count\n",
      "1    203.0.113.5              8\n",
      "3  198.51.100.23              8\n",
      "0    192.168.1.1              7\n",
      "2       10.0.0.2              6\n",
      "4  192.168.1.100              5\n",
      "Finding the most frequently accessed endpoint...\n",
      "\n",
      "Most Accessed Endpoint: /login (Accessed 13 times)\n",
      "Checking for suspicious activity...\n",
      "\n",
      "Suspicious IP Addresses:\n",
      "      IP Address  Failed Login Count\n",
      "0    203.0.113.5                   8\n",
      "1  192.168.1.100                   5\n",
      "Saving the results to CSV files...\n",
      "Results saved successfully!\n"
     ]
    }
   ],
   "source": [
    "if __name__ == \"__main__\":\n",
    "    # Define the log file path\n",
    "    log_file_path = r\"C:\\Users\\md yasirn\\OneDrive\\Desktop\\InternsElite\\VRV_Project\\sample.log\"\n",
    "\n",
    "    # Step 1: Parse logs\n",
    "    print(\"Reading and parsing the logs...\")\n",
    "    logs = parse_logs(log_file_path)\n",
    "\n",
    "    # Step 2: Analyze requests per IP\n",
    "    print(\"Analyzing the number of requests per IP...\")\n",
    "    requests_per_ip = analyze_requests_per_ip(logs)\n",
    "    print(\"\\nRequests Per IP Address:\")\n",
    "    print(requests_per_ip)\n",
    "\n",
    "    # Step 3: Find the most accessed endpoint\n",
    "    print(\"Finding the most frequently accessed endpoint...\")\n",
    "    endpoint, count = most_accessed_endpoint(logs)\n",
    "    print(f\"\\nMost Accessed Endpoint: {endpoint} (Accessed {count} times)\")\n",
    "\n",
    "    # Step 4: Detect suspicious activity\n",
    "    print(\"Checking for suspicious activity...\")\n",
    "    suspicious_ips = detect_suspicious_activity(logs)\n",
    "    print(\"\\nSuspicious IP Addresses:\")\n",
    "    print(suspicious_ips)\n",
    "\n",
    "    # Step 5: Save results to CSV files\n",
    "    print(\"Saving the results to CSV files...\")\n",
    "    try:\n",
    "        requests_per_ip.to_csv('requests_per_ip.csv', index=False)\n",
    "        suspicious_ips.to_csv('suspicious_ips.csv', index=False)\n",
    "        # Save the most accessed endpoint\n",
    "        pd.DataFrame([[endpoint, count]], columns=['Endpoint', 'Access Count']).to_csv('most_accessed_endpoint.csv', index=False)\n",
    "        print(\"Results saved successfully!\")\n",
    "    except Exception as e:\n",
    "        print(f\"Error saving results: {e}\")\n"
   ]
  },
  {
   "cell_type": "code",
   "execution_count": null,
   "id": "f7b82968",
   "metadata": {},
   "outputs": [],
   "source": []
  }
 ],
 "metadata": {
  "kernelspec": {
   "display_name": "Python 3 (ipykernel)",
   "language": "python",
   "name": "python3"
  },
  "language_info": {
   "codemirror_mode": {
    "name": "ipython",
    "version": 3
   },
   "file_extension": ".py",
   "mimetype": "text/x-python",
   "name": "python",
   "nbconvert_exporter": "python",
   "pygments_lexer": "ipython3",
   "version": "3.9.13"
  }
 },
 "nbformat": 4,
 "nbformat_minor": 5
}
